{
 "cells": [
  {
   "cell_type": "markdown",
   "metadata": {},
   "source": [
    "## for batch of inputs"
   ]
  },
  {
   "cell_type": "code",
   "execution_count": 1,
   "metadata": {},
   "outputs": [],
   "source": [
    "import numpy as np"
   ]
  },
  {
   "cell_type": "code",
   "execution_count": 2,
   "metadata": {},
   "outputs": [
    {
     "name": "stdout",
     "output_type": "stream",
     "text": [
      "[[11.14336159  8.07806086 11.41829799  7.05007492]\n",
      " [18.01597411 11.48639922 15.65730942 12.43539102]\n",
      " [24.88858663 14.89473758 19.89632086 17.82070712]]\n"
     ]
    }
   ],
   "source": [
    "inputs=np.array([[1,2,3],[4,5,6],[7,8,9]])\n",
    "weights=np.random.random((4,3))\n",
    "biases=np.random.randint(0,10,4)\n",
    "\n",
    "output=np.dot(inputs,weights.T)+biases\n",
    "print(output)"
   ]
  }
 ],
 "metadata": {
  "kernelspec": {
   "display_name": "Python 3",
   "language": "python",
   "name": "python3"
  },
  "language_info": {
   "codemirror_mode": {
    "name": "ipython",
    "version": 3
   },
   "file_extension": ".py",
   "mimetype": "text/x-python",
   "name": "python",
   "nbconvert_exporter": "python",
   "pygments_lexer": "ipython3",
   "version": "3.11.5"
  }
 },
 "nbformat": 4,
 "nbformat_minor": 2
}
