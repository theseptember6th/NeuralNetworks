{
 "cells": [
  {
   "cell_type": "markdown",
   "metadata": {},
   "source": [
    "## More structured way could be using python class,,instead of recreating manually for each layer"
   ]
  },
  {
   "cell_type": "code",
   "execution_count": 1,
   "metadata": {},
   "outputs": [],
   "source": [
    "import numpy as np"
   ]
  },
  {
   "cell_type": "markdown",
   "metadata": {},
   "source": [
    "![2-layer.png](data:image/png;base64,iVBORw0KGgoAAAANSUhEUgAAAUwAAAFHCAIAAABFy+LLAAAAAXNSR0IArs4c6QAAAARnQU1BAACxjwv8YQUAAAAJcEhZcwAADsMAAA7DAcdvqGQAACf9SURBVHhe7Z0/7CzFkcd/7wwCHejekx044550+IRO5u5ikEWMLUuOnKHLIDTJ5S9wdokdQnYic2TZsok5y8RYnCxkjITJHNjid+KdHoITV7s921tb3VNT3V3VM9NbH41gd3/d1d1V3+/07J+3e+err766cRxnXP5m+r/jOIPiJnecwXGTO87guMkdZ3Dc5I4zOG5yxxkcN7njDI6b3HEGx03uOIPjJnecwXGTO87guMkdZ3Dc5I4zOG5yxxkcN7njDI6b3HEGx03uOIPjJh+GR6+99ec7v3z4x+luJ/74/l/vrDGuI8dN7lTz5U9/+edvvffFdM/ZKm7yofnk9rDNHo8X3/8y2PLOW3/96W34M978w5/CcWpw+/DFQ8eHh2Zv3b59fOzM7ec/+/Txn7z09AvTfWejuMnHBSz6u8c+fOWbX73yjZ/cu3n3vYdv3zz2vfuP39x88bNPwPBwCvj8zZubF+4/8ezB4X95/dMnf31o/M1f3//i9V+cLf3ue5/dvASP3315euDE3ad++8rXf3R3uudsFjf5uIAJv//Us4dbj/3jPfjv//3h9ubZ5//2VfDtx5/D7v32nx7d3Dz+w2ceO+7JNzf3nwg2fvnvn4RN/uefHO8A957+92emm84ecZOPzNu/ma7Av/vx9MjNzZM/uH9z8+nnv7r98g9g7HtPfA+24tsv34W/fHy6tn8HzI+497XjmeL0GtvhiBf8zg5wkw8LeBK8/erhShuuwKcHgeNG/cXr//U/sHsfr9UnXvjXb0DLeLyR7N7PPv/101/9Kn1PuMnH5vF/Orjx0c/PO/nNzTNPwVP0m0+/eDdcqx8eeeJwDX940u4MiJt8LD797FunK+pfPQNPv794/Rdw+/bmPuzekfDy2+la/cCTb7xy99WbR9+d+h66LBv++Nr7nV98drjUD+P+5vI639kG/jNJV8knt/DEG67Pf/v8cSd3hsZ38mvk+Lr6zbfvusOvAjf59XH78MeHp+hP/sDfGLsO/HLdcQbHd3LHGRw3ueMMjpvccQbHTe44g+Mmd5zBcZM7zuC4yR1ncNzkjjM4bnLHGRz/xNu18uC56UbKgw+mG84QuMmvDMbbKe72IXCTXw1F9sa41XeOm/wKyNqbsW5pe2fbuMmHJrVrkVcbuzvbwE0+LsSi1f7UiuOshL+FNiiKziR90+3d2Ta+k48I9qHixmsUdh88eu2t2zfvPf3h9HsVXTh+FV+42fKFfL6TD4edFXE038+tAYf/6Ynjt9yHX7n6y2vxN20KsTD58Wf0JN/pW0D4OT7dmCNivdm6zzGmvyf5zN2vvhO+SHv6Cu3/vj3+gl05vpM7hVzdhfoM1r8nifjw08PvQ1d/u661yQ8nsxfffxRPY6dLjpnHw/f1T9/RH8+LIUfwyPHb/4+nxvgrX/6F/mf6P2e+5s282+9JfnJ7+Cm7hp+d7LGTv/ve7e//5XCugvW/+Q4+h93+7P43wonwzXeY39B77EffP7S5uTmeCyGzx2WH3+768N7n/uN7FGuH+2Z+pMfvScK2d2j/5K8bXvDrcrk+nYSO6z+e8CbuPf2fhxcMp4uc3xd6NZwvn33+rv/43oG4qXbaw0+jXOtm3uX3JB+9dvgVKtjbuIv5RTb0nLzgdYVn7h7SOv3u17W/GhdO/9Mdpyumvyd5fNOu2eHAhkxe9LrCy985nPM+/Fe4BHj048MLm1fH6dJusvedf3jn8L+eF9JXuJl3/D3JP77/v28e/o96TS/UF7OqyT/97N8O/nz0H+99cbiYhwuYu1/7Njz+8eeHFHzy8PhiW+D82gYAV0rHdyxunr37tcP9a+KkEt+6OwNGna60T1fU50fe+M5d/JvtQZb4Wj3pftyc7z71W7g9vU9GQVfvp6P2afmqJr/35Lc//guc1eCM9epL4ZrkyTdeOrz2eDh7/e6xXx826omX//npF8KJ85cPb57/ux8eOh5fw7h/d/if5ozGznr7UP6PXoJjuu+szdZ+T3Ktj7Uen290/pDg3shaOgLenm71f+cssuLQm+X24Ysar5Yp4ibfHFJvRzq/rk548Fx4OSAzMWcbbOiFtyuHuSAHDtfkx2O6vxmmF/yW5u+siP8rtJXhXSFy9TZ28iy+vW8BN/k6KHg7srbJw/8ZqwPu9hVxk3eF8Xa9DbZh8ji65vnL0cBNbo616GP8dfwzf4pxt28EN7kVfSSOR9maySPu9nVxkyvTU9BkrM2aHOOG74+bXIf+2qUOD5946/y0PL5JDqMXDu1u74abvIm1lJp3ONDX5HEaLSt1t1vjJq9hXV3i0aexVnqBPTOTBtztRrjJC2BU2E2CeV+tZPJ4uR5QTMIWUj0MbvIFNrW95B0e6O/z04hGPg9sKv87xU2eZ4Pa4hwOrGdyGHFhbhq426txk1+wWSWJXHR0HeyrPeYZHQ4cTysdfB5wt5eytsmxVggdn15uXDdS/6BnyLZzThwe6ObzgLtdyEomZ7ydYub2XahE7px+HovlS0oT59A5e254hu4mL7I3Rs/qexEEmWeBw00/GDOzjQcuprFGJt3tKR1NnrU3I8TS9ksw5d9g7YscDsT2F1/2pu7z4zMC/iSyus8Dq7md2cbUyyGji8nTZRettqH7apVuo9rhwKExzpiisMTP+Tfi80AnDTDeTunrdnuTk8VXL68kzk69HSh1OBC7nBtrpT1yDCh/S3xTPg9YqaLI3pheVjc2ua7UlqLt2tsBHYcHtJJ/GUf+Av4GfR7RkUrW3kyeS9srYWlyvCTFlSRhB/B2oMIVC11SVRUVIte9aJIVK+pMpXgMEjvdMMDM5IkVNTkFx1ePhG1KiqHOD7EX1yWVFMAUZam9aNATRY1XpMDtJD/V8taKs4SNyfHsjaZ++U8jIhtX0hyNDgeWe+Wse772xq/Jp1wWsWjcuqWtCOP2w/x1ndnF57s1OXDy+S6kw9DD4ZFLVS2YfL52Y/s8kHX7OVGKwjb2i4HJ+zgc6DaQJdUGiB0rbXPMXt7ksmQWTWCnPo+cF8t+RqAeSzFbmryD8XqOZUC7w4EWzxQZlVA6B605r0OHHcVsCO2fSersujgKTtBOWN3hjZQOjdvjJTgTZpbx30JbAZC4ilFXdDhBaNq9+rzDNk5Q3bRUTd55Gw88+ACeWB6eW+5kMyfiLjXqprxRcZbZzompBmth28Tf/U4eRX+w+uZ/VVPR4VtzS0XmN16sic5bVxxFb9PavclTrYN0wjHd3wxkSi0u3Y7DK2aCu2zf59N14p7RM/l6V8tfffRS9m3e6PYtKInMocIbW1gFj3yG2/c5zCoc092ePtfezA128j5XNZjjiMHqc+YhNesMHhdm2Ojwiu6m1M0H91qrLilBJNuZjwq7v1xPCS6aU17/KuKx6vyAaY9gSlFi8Vp6ViQlSCI7B37z2AUDmjwChQnHdP8Spq6K4PjVQrGeZDvVS8MdV1kmo4Fg7+nOWmhcsY9s8kiw+pwQQ5ktFIZjVtsAoxLEiDi30kyusiim6DCfcEz3gZWegWpxFSaPxPpdlPAEU/gKcJzscEK05tOT6jlbLxbih2O6j2CEsXeuy+QYpqiMFITgvi260YrTh+oZ4o4taZ8jVDMbGYYOx3R/RK7X5BGmzFEcWX3MgRtrqWd3KizKGIAXWNp3jlC4bLRQ8d1ltQ43+Rm+8IxiMLhBo4YWx2qHX3IFLaFw35a1hzJlI6ivdxcYmLz/p2K0R+SlMKch8mCjkhRDrUWaokXwSku7h/xne4Vq7jSN7eiZvP8rkCnac+DFgVVFtKWop91Js3HCuHvWsSmxCikQrWU+4TOtwmlslkEu160/YBy0MicXdYfvXVWRuoUIEwjBwzHdR/D1ujZGMHm0dwdvSNTTOA3cfacyVZx2mkx4JBzTfYSkOnJMt40FVJ+Ban/9U5xct6v35GtbexojKzVMxWRizJ4LUQdnpm4hJAKTaotEXYz+0Uu9n42q+miEnZx8/JBRgy5EhVmpQZt4TA+xCJttn3bj4QjZtISctw+Ugodb/5OtzYzyRY5A4Y97NMKPxXt1bm4959+HuKLS5TAJ7FrZ6PA97+SjfSVzH5/IR2HECpC+sbG1jrtRWg4+XYB1ZjIT7rlpBbRHtHifvFcuImhELIJFxdRRJFxoEI7p/iUQKhzhdnhwJBbzE4l5SMFBTLOEg8tnvn0MdnKgw2bODkGkoFiwdh0synQkeQF8xphskMaxpVF+uHn23MwNvGNjcsDU54LgRD0qyuD1Wgqjb8BIyquQ+pNZ+9zCdZNPWAhuKmaMzUBmJgeMUiMOS5TUqAw7kTGKB9QFfQDnkGAgYn6BAckyjUogCnt8p9b8vbRYF9VRLE0OEDG1T/0YUJ5uIq86ZagEYYjxITIZC6MwLuPtFD2dKS4Kh1IphDDguUZ2PsfV2ZPJAS2fn+LEj77Ia9yiDCJQFWFh5uZGxiUUT6PI3pgGtTFLaEljSzUJwlAXzcKbauo+N3M4YG9yIFVY0TIuu+PPt8lrXKcMItNGSaVIZkXmQFieUtbeTP5L2yfwEwba01hXTYI8SGx5ftscULSipcOBLiYP6KmtrsalvXB7oF2aKWf1lM+HkImQJrBIQOXdmRnC9Erzz9MYjUyViUAHImlp9yQO2B4tR0eTB7LWFYJSEFNfVOC60gIVMlqEqkcMmRthCqWlRUEcZj5kXbGlSj6ro5EJ890zo3TMrQrdTR4osvqSsIpqLClwdXA5KkOQtWA0LyxntMiNPrMi3cRWR5N3jC1ps1TARUlu7F7ISiaPMG5fWrZKjQHStzpsEbPqqYUsClB+HRhVivyzv4hkLboLryiWvMtyy6x6k5yfl4zPvBFLewfWNnkb1YrB9QNid7kCWjAcBf3DW/35HzWdOrw6+SozLEpmXeOFlsxGdeRckdTk9g4H9m1yoEUxpORFCqjGcBSsNiP1IJ9XT149A8KAReMWT3Le6hmTd/F2ZJCvfwJwVYTg4qkrb5E+oyhzVCeINX/lKUN94XN1xFTXV9oYMhMOBkkbA3a/kwON/iSyUJcgxvBU0mEbD2gMZJEHJmbpcLG9ytx0o1UwxDfDrJS7UiyUncF6o9CIb7H8uZjVDh+GcS7XA0UVgsZp++yDuuhLPO6ufS4F4yjzT0TlWGQ7xsTBS9NucSZahUFMjushFA1pRiqqrjz1gHvHwkJEBjjnwuGGLNM4O3mRaEgtQ18SwajeRfMU0XkbD2x1M8+mtyLn+mVaj9Eu1wO8aLIOD8BtfFdLfEbni9W50/abFkZGImHlo4xapqFMLvEn4/CIJI4cHEEuuO0T7Q0L1M1SIyRUReSRygSMtpPz5cH1hpZMY/wnLf2ZSEfjarkO8lY5ZGkLdsrOQTKx2MakTKsy5uV6gJQW35UUUsXn1R2L6fmEPPDgg/QjMbDe0iXHPLfnikSQ27VfmdZgQJNnzYmrKK89CVUqhbpB90X2028VuQrU9cpCEi6MPGSZxtzJmQKXVrFOKwQ76TS+9KUFLDBdI+Sqp7WyVcaR5yZTV9MdMezleqxutvZFkF5CTdhJByLHY3pkAz4HIFFphkvzUNo+gHuROeC7fPB08mMwwmfX5yAVbSxhUTRGc3Xw6gTWEej8W/TphBdnGLuUrkWS7bk2kr57Z+QX3jDt9YMIc+JgaBwXRgnHdD8hPCVOnxWvDkkXwC8EI2wWwI2ZbC/WrrFSW2bMndy0iouqEspujuzkMRcxV/m4W0Q2erqiubTElsK8laaatC8dbqcMaPJUUhGtWjLaKpVdgJlzJB9tDyYPpGtMV1SUPcVUy7vvkdFMTkoYilenBp65mPFxyUBZwWGWg0SbAZ19XjV0umSyRmEC5/K/yOIExmMok5P64eIJpVNEOpxEeanICMUzXGszbxg3TUJcdWkOi9OVK9x0a1DGeeFNWLlUXtWQIRjlwZ/iMT2UAF3CMd0fmnSlMTmLGcA5rEvXlSQ5MshOTsyTrWK7OLKQoYEYPP0TQWcaa+zkcWmHF/bbxuWzRFKkUkSmZEMygsnlhT9LU7uovFIxJnrq7nPdTPLZi0PIC82THc6kLttg95frdYXnVVWKJBrMLRzT/VFQyaQkM3WFTolxyKC6ktgU+97JKwqvpRVgURaN8eWchdt88SzieOGAP0uruFKJ2aqHy1b/nL1e9erMjnfybMEWaSwkDBqP6aG1oTOJl+5GnOLjj9kpZgMKxNdIxYrZINupqS7r7eSMFgV7Ea5HadVL+wprH0OR9iqinIOOFYxnuplfPv9vKcQi2cxXj8JM1XQVq9Pd5EX7zIxY20siiZBVGAY6zsUhfY10Q0fBn2A38jku32mIOA2LZc5VoWIsfp54IKN6rUVHkxfZG3OpV61iZEs+J6nIXON0JiSUum7y8XMmVGMmOJ+HForKwRNDMV3sFrIuXUyetTcjwZn2eVk3sKihSHasRd2oTzjCydHI52xYbj61pNWByOmDwOKI8ulZLGR1jE2e2rVIdpfddV/OzcoFo6UGdd0sByRpb7e64MShu8y56oTI2b8yg8b2konpLmQLWJpcS2qnONHk1amfk05EGLlUB4q6kYbSTv4EG0drmWmc+AgOi5tF0nErZpUdTgrJGKb9bFuFmcm1RBZoiJaVQhZ5RStEUCG1lLIgqdqKqlDVvckeR7JrZBaO/xTBbSqmxAw3C+PtlL5utzE5XrDiekrCZmuPkQgoS40CjlR3DFR2z4qPyV5p+0vs1hj/lA2LOwZCs+r5FHQssjeml9UNTG7k8AAbPK00Ya5aRVKIjYtEEyAzlEcommGGaiEChUWsnupix8XMk/RiKpK2vJDSE2JpeyW0TW7q8MDlEExdI5ICLwooIGzGQCZcNDegetwDOZGdX+nAb7MDDeWrmLCkizAsyTBQnbTZEdNMFqWrsXshOzQ5cByF/x7i0roqimwRokI+lNagF6AyUZMrVa1o2vLGsWVRzEBd9jJzIxatzphWnCVUTd7H4cCD57IOr6tiZFFqcoVJWBwOkLRpRHdRGGHkojXKG+OWmIplXgyqd71zoIvPbf6BiqnDgctf4YKyhWO6X0udaKrBw6XB4ZELbTWvbkWY1JWuUZgHJixJrIT8oCDydp2TIMTzSuiZPM7P2uGBo8/DMT2iCtFBqRaF4FB4CDK64og9mVtdJPugHEn3MAf4L8kh9G0aXVfkxj4f5zveVFjUJdFKO+mIZFz1EXuymM+IfJmLLecGgo6kL7TkZxW52FEstjFLnyuZvPM2HohjqSYl1ZBQB9XgEclYi4LePnOrw7erl8mXJhsWHiSPQxA+TifMvOM7eYYoAlL+ai0uMifH6dbOSRfSmFWmS4zMh81OCc/qAryL9NnGVPctN7mUCi06KcRL7VnF0WZdmgOGLrM6YO1wm/gaJtd+ClGD9hw6WzorrCLJbpxsPluSzPeVR4aWaeMLq0dpddrDT6PoSVp1J++TBUyvEVvkuAg2M9HcwD5vT2mMELLUkiuS9gAEHCP/frkuwq7YOHLUGRbcGDoDyEJ015VNYyl5q4ePXfXcwLQ3czd5nlSCFmZjpDmYz42WUO1nhtTq/Aeot4+bPAPjPUUWR8EP7trncyu1WJRWvSCOVqjVGcHkcKI1OteSMiuKctHhAfwn6GLhCmvSlZJFTbdqwdGYTNbw4LmLz8CsgsYV++5NHu0dPNAumjSCrigBHGRRl6SBygS6MbdSxZTi7lbJ2fkryrs3eXqWhUqHY7pfy5woG8ETE4YlzaykrA2/UvzIXla0U0a4XJ+7oALphGO6L0DSuFqRZDJFJw5obOSKELloMhIkK20fNM2DYmaGQdXk2p9IWQaNyIgVCh+O6f4MuEEaBz9SoSTSJTvPRRrn0I32/JRSl88rQcPk/Z+xpKA5QL3nSg5Kkohprnu1ksigLYrEfRuNYUTRYluWM9d+m2lZkREu17OAesIx3UeACMIx3T9Sqgx5e9KSF72EFmN0RrLY9uWECO2JHZVhTR6B2odjuo8AScVjemhJK/ivEkWSNnxwOWQakpn0QZ5JTGlWgdgsO4pKQsJbs0bvzvZEyeTaH8QTEceSPV8ANYRjup+D/2tA0iZApCbvKIFEU5F1I3gOpYstaj+3WJUMQ/BwTPe3kdsWxt/JU0AK4ZjuI9ICZ4l9mZb4T3PDNUJiLk7bFLLe6VYV8oWkA8VHirIBjeMxPbQuqpulnsk7b+YaozBalJc82wY/2Kh4HhJcMmELVNaLOzILka+Rbwl/jcf0UEJ4dzb7Bm0nNF7VttnJrX2O42tkAQCFZdU5pwNGkfhuteLlkJmnU7VGcb1FC5kbi5kDxIzH9FACdI/H9NDOMftxBSXv5VEaBVcaV5RXwHTrSGwZH5+L2YGCoZmzcGFKLdbLxEwTngVHkDAbrY+eU1TH3d8vqJzLDBdRDUNI1MloJXQhQSQxTVmYAOPtFEFu7dYbI+OwRcPhxnOI5tzf59ojapscMPX55W+ntAgrK6M5JIrBtEysETLVaSZF9sbMV7DIcqVkgy+WTFKm4qm6yfMY+fwYlrxvWSevaoGayEgbMsnM60ZMUbKng6R9dQLlkCHmRuxRkZ4+N/COjckBopX26V4uvlFksXt1+RlttUpKg4v8RJMXVSF1+6l7Y/LlZJMMIzLJj5BmTfM0MF4em4HMTA5o+XwmTnUJY8d2gfJqa49fD3pe0/TiRZJ8NefI4DNMSOejUutzkLaXgZaJ2VYdxdLkAJEIUDT7pe5EAZJCKmpUrr8OZrhg5rRYCYqm9YKIHEmSmZm0l/siQrgmMvI5rtqeTB5IvQowyyhpT0SwWMjYvlGj6bjkkSyNg4ow0kryc9F2a9HNZEvFaZXrnvhIMHM40MXkgax1hbDLTv023UrALVs0OjcieXyOlqEXMNWKUvayCFMHVAwdgxf1zVTZ7AQ63QDUTx+wkH4mDxRZvWTBixLU0mim9ohUT6Q9pmUaGay1EpemdNXKZIanNG94IGFfMrdzLyLg9jwbVw3obvII4/bapc4W5shZow3W4ocIzA1E+mJapnTGXi4H4ihVQzBJiMRs4MbwILk73ZIxV5QsZJK0i5bPteIssZ7JbZgrT4s+IsIgi83IJDHVc+vkcKBqIGbJkXTtsVf8U/qIkMWiRMhU842JP4GinDd2L2Q0kwNpkeQFZigKImxMpoopnmfUjanDA7KxmNVFhMmJzYqqQIh95RVZGCL1KsDkpLS9EgOaHJiTV6ksIhXakkgqMjdhQDRcT4cHZkZkFhJpTGBFLQKLHcnkpcGz1j1y8VGFLF3qNabJA6ngijQRqVNVey8CF2RVkzNzjpRmPsbMdqzLLcCEJasonXDW6rMm71amIyObHGit3GWE0u7tWkzJxOnv8EDyzjmhItsBSd7qcjvXiyS8euYHkNupyTsX6MR1mRwoql+dkjAxQmP3lHPAlUw+N7cmhxwRJq0ut2kvspD2+UfqZqjOyN/xRooXyD6YBbdsL5J8XAyMG47pPgIChmO63x18CRrnmZ1qERUrqktC6EX6ts9/gwxrclw8UjmJJpjuReC+knHngDjhmO4j4JqQv2y2A3wejum+Kotpr8st02txxJ0y/re1hsrBf4WagD/hv7YXXlc6YSFpzBV8bvDsQO7VAM6DvG+2ItkHx2BMk8/Vm2gibUYeUS+8XIiLwNwOh80uujryzJOaTrcKUS/0phh8J0+LRx7BsrBzuIoQ55iumfcv05iZ0rWUtrcr9DYZ0OSLLiJFDe2tCz+8khpZrJqQxThpA62hN8toJscFY3yV9XnEyJAx7PCqaqEu+bgXk97rzPywl+uLWoEG2TZ1IivFfY5Rycaiz8mDi+2HYSiTb79Ufc4g+6UxP4xvsw6/knKMY3JcRWHxsicF6zNFnJv1QHsh5kHFctkgJNWSNiMx4OV6hcNJl2711hwo9w8kbNEY0TTVITgZgtRaqJZdM4jJS7WC24cyw39xvU3FpzjQih93O6PxqRhFszHp5UcxLfqKjGDy1LE8THtGH7pI5skAcwvHdHd1n1dhl+Fseudy3lgLBogcjun+Sgx1uS7JJhZWtj1+EBvJDvkQYT4dpiRE6zqigw2EQ2wnt4rs3uRFVcGNmaqTPxkVnpxNpls54K/hmO4jIMjhmP65csen5egfk8/Njaeii5zS4IwYBmDfJse1XKxTUWPSwEiR/DRg0HBM9xHQMRzT/TUgH5ufm+oi6qvITmNxbnEadavYMvv+0ohYD14opGxFqsJ9LUyVxudFNjuHnl8dgS4Z5i7XhRVRT2laa3kF5S33xY5NLixJWvXplpj2CDwkfpblQfG1uqnPZwbKriI7bWHhKpirlHzE2FJ3YusywgtvTD3mql4E6UVimgJDh2O6z9BhAydcjpidJ+SKSZdoXWKYWuPbwvL1rLI1e93JYw0YoTBVr0A3GsDIqDJ4h81cNkR2aWFR+E/tOYxIqhPb8OMKm+2IXZpcIhRJ1UtRiUmCZKmfranPC4PzK1W0kLAuuBkzurDZjljD5FgrBJkuYxkk5QR0S1UnAjIlTAyyuC4RRj5vCJtdu1ZRimotrJ1OITZDR5Mz3k6Zl9FinYSFbEEuLNISw0++aeYk1e1W1zhxZFPRWCB5ISK4y1x7SZsd0cXkRfbGJHpazH638vDyIn/F8LNSm7+Wz/XOF0xOgIrF8iVgkCQ5timbGCP19lNtLcYmz66ZWe1Sez71kuIpkoqMPIKRz0dtFWkyi3TW2P2SdFHZXNVlCShNVOw+17GsCoy3U7q73czkBgrj815WFSWI1FLqZrIowQKy+mNqUdpextyKsglcXDXpVZElHGGuu6gKRfbGdLS6jcnJyqvXg+LgT1alSZfUTJ2sQCMt09BfzrwWY2Jnv91Zz+FAdjnZTM4tnDSuzo8kybFNpkHp2bC0vR4GJtdyeOAU7azFJN2SaumSFSWmfRomi8rpbNbkevrjrIKYyyruRdo0ZmYxyfkGaRqLctXYvRxtk+MFKE4d/ZsnUozFOikyp0IAhtbVHxAD6q8LlYmaXFtwFQXK5tkiw8Di9GgViEWr06UVR4CqyY0cHsgFrxBQBVnNBciguirsvDqjIarjM2kHFGfLz/CiCroXO718rmdyU4cHLoe4yL6BQBmRMcORXo0Ts14jEIcwzWF18GwVdKe6mOTzKqLJFRVub5xdmRw4jhKvMAN2JSfIB1rUjZyzwlSXGbGLr5UElYrw8FO9+Cv4XF3ext5R+ldofRyeQ7HM4ZjuI2CIcEz3BeDGc2FLUQmyCi014letlVtSr+nWiYurdAt545jYSkpo/1NTa4dfxm9RTyCoJCsUCB6O6X4hpGO1FnGc6iD9UZkqCTJXEWjWPtzKebY0jsblejz3WDs80jwiU8VUQy2kMp1uFRLj6E4PMIrcHnYxdaRBpGUhmWl3u0o1G2iEL42QAyUMx3QfAUUNx3RfCRJzTpeLxCDVEXrSPkkSIVuXkNv0T9BXfQIHrPcws/jNO3n/bTxQMi5f8qyA1MFzqBuxPUKWGFYrpu5KAWEQ0itQMYGL+Vu8nM5jYKjBd3IoWLb2AJQ/HNN9Y/BAzKwYSITp1oapyy1ZmjwItEwbV6T6Is+X7+PslDFNHkqbrW6QQqqGDpBBS8UHrDLtIioWhSHdK9abLW4Qg3xuOMLB5z2vUuNY+Cl6G20m15tHPWgOTC1D7dPyd4ZMQC67lJa+HahINVlRS7FCrdMIc/JIaRl9ayjt5D1PdQE0YqhctnhzxV4RMh+h5iItfa1pmQ/pq1Uyku0AjLW11Jmy78t1uJTKPmsKpdUSigV4bqWC2/K6AqUzNHJ4BAKmMRes/uC5rz56KRzTI/1RulLesclTe4daqkvECDzPBcHNU9fLgjiT0vyTJdiVL6uNkHkujatepaqwY5PHU2wonp047CBz5qR2Ce4o72VH9RxIxw5FDFJJB4KZbCGTFuz7cn3lqykNiNrkOtPyw5zo6yiK09/hmOyqh7T6vk0+BkRtFSJbV5d1o5NenR0embW60k+vbwE3+VYgPpc4p/HUoI7cqBtxeAQmEI7p/okxfO4m3xBEZKU+X4WKk8vWHI5Jrb6Fs2cjSibv/6mYLXwOx4AWha0rR6FXt+zwyMHq6GXdcGO/tJm8/7sLKVuYgyqlPsftO/s8Did0wi4cHhngZd2AX65vEVB/kXVXcUvpCWVfDj+z/6vUHf9T0/iiyG7kUk6RMWJjUUIYJclKWTTcLh2+nrZPN3TG3es3wzAvew7mebk9cMvZZoy3U+YLKhrrxC4dDoxi8r1erjNPlkBS8Zge2jPEEsyicMtMM5BOkcMBQZdhHT4QSl/JrH3u4cCyOw4nN/N+FSa3Smx5bpM1KlOppfZ4MnxKd+/wnsIOGIyobXLANB1LA8kND+xOcxJ3XbRJr3eKqpO6/dg9DjG2w8P8pxyaqhqzXZMDBpPLUDgK0RnPLlQocQ5uc/Z5dV0urS58vXOnDs8Kpp/Pcao3bXLAKB3NQ8g9v2VRFvlcR6CnzOPXO5kU7c7hvDAUTpQSzBykZ3LA1OcGwffr+QUXGb2/KAu7F4cvVv8886i9PibXHkXV5ICRz01PH0fkhgc2Ilw854wiAfVcnXx+2Nxywbfv8AJvR+zlZzqEtskBPF2gfcYdUpywF89Tn68qx806vMbYBNPEGlfNwOQAnjRQPW+tOM3IPd9f2dRaHZ5AxrqgITbocAVvY4ysaOxwwMbkAPEnULSAxu7GbM3zeD49XgpOdLkdhysbm0Bk2Z5ke4cDZiYPpF4FmMWUtt8AcsMDduqP05h7tqxMrNSDD7bgcFtvY7R8rhVHgLHJA1nrCtm2w1Pknlc2A3LddMOa44j4TTWgp8P7GZuQ6rko543dy+li8kCR1ffm7Tn6eX4Nk6/i8NW8TcjqmUl+aXs9Opo8wrh9FG9nkRseKFNqf4cnyzG11laMncKIeZFexVrD5M4RTc+vbXIjj23X24QZq58/OxTf8gC672Ru8q0g93xG2auaXPelvt0YO8ul2y9M3t3bETf5Rinw/Iq7BNZ029D79vYM5/PgqpN3k++AAsP3F1PDRcSQxsa4yZ1KGG/swuTDezviJnd0wJ7Zssmvx9sRN7mjRMMFswLs6FdobMxGTO7fu+7oA+IOx3Q/AUQfjum+Y4mb3NEhGnvO29HY7u3OuMmdVu6wv/Lrxl4dN7nTRNbe0dju7S3gJh+I+BpYNx48hz+K48beJm7y/bPKi+oI8Ll7e8u4yR1ncNzkjjM4bvIhiFfsPZ+Wr/shHEeMm9xxBsc/1joQPbdWfMngO/m28Z18RKwv2t3hu8JNPhD9/eYO3wNu8kGx28ytLxMcbdzkY4G3Vgs3+oX6DnGTD4edz93h+8RfXR8UYu92T7rDd4ubfFy0fK5+vnD64iYfGuJPoMiijd2dbeAmvwJSrwKMXUvbO9vGTX41ZK0rxB2+Z9zkV0bO6vmf7ALc20PgJr9WkNupyd3bY+Emd7by9eCOEf5hGMcZHDe54wyOm9xxBsdN7jiD4yZ3nMFxkzvO4LjJHWdw3OSOMzhucscZHDe54wyOm9xxBsdN7jiD4yZ3nMHxf4XmOIPjO7njDI6b3HEGx03uOIPjJnecwXGTO87guMkdZ3Dc5I4zOG5yxxkcN7njDI6b3HEGx03uOIPjJnecwXGTO87guMkdZ3Dc5I4zOG5yxxmam5v/B4pjj5gkcUDyAAAAAElFTkSuQmCC)"
   ]
  },
  {
   "cell_type": "code",
   "execution_count": 2,
   "metadata": {},
   "outputs": [],
   "source": [
    "class Layer:\n",
    "    def __init__(self,n_inputs,n_neurons):\n",
    "        self.weights=np.random.random((n_neurons,n_inputs))\n",
    "        self.biases=np.random.randint(0,10,n_neurons)\n",
    "\n",
    "    def forward(self,inputs):\n",
    "        self.output=np.dot(inputs,self.weights.T)+self.biases"
   ]
  },
  {
   "cell_type": "code",
   "execution_count": 3,
   "metadata": {},
   "outputs": [
    {
     "name": "stdout",
     "output_type": "stream",
     "text": [
      "[12.60726721  4.80845679  7.82856712 10.69300061]\n"
     ]
    }
   ],
   "source": [
    "inputs=[1,2,3]\n",
    "layer1=Layer(n_inputs=len(inputs),n_neurons=4)\n",
    "\n",
    "layer1.forward(inputs)\n",
    "print(layer1.output)"
   ]
  },
  {
   "cell_type": "code",
   "execution_count": 5,
   "metadata": {},
   "outputs": [
    {
     "name": "stdout",
     "output_type": "stream",
     "text": [
      "[27.12496049 23.61878117 33.15245497]\n"
     ]
    }
   ],
   "source": [
    "layer2=Layer(n_inputs=len(layer1.output),n_neurons=3)\n",
    "layer2.forward(layer1.output)\n",
    "print(layer2.output)\n"
   ]
  },
  {
   "cell_type": "markdown",
   "metadata": {},
   "source": [
    "## if we want to create a third layer  with 2 neurons then"
   ]
  },
  {
   "cell_type": "code",
   "execution_count": 6,
   "metadata": {},
   "outputs": [
    {
     "name": "stdout",
     "output_type": "stream",
     "text": [
      "[69.00417228 24.87213391]\n"
     ]
    }
   ],
   "source": [
    "layer3=Layer(n_inputs=len(layer2.output),n_neurons=2)\n",
    "layer3.forward(layer2.output)\n",
    "print(layer3.output)\n"
   ]
  }
 ],
 "metadata": {
  "kernelspec": {
   "display_name": "Python 3",
   "language": "python",
   "name": "python3"
  },
  "language_info": {
   "codemirror_mode": {
    "name": "ipython",
    "version": 3
   },
   "file_extension": ".py",
   "mimetype": "text/x-python",
   "name": "python",
   "nbconvert_exporter": "python",
   "pygments_lexer": "ipython3",
   "version": "3.11.5"
  }
 },
 "nbformat": 4,
 "nbformat_minor": 2
}
