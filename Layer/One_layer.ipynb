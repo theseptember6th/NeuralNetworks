{
 "cells": [
  {
   "cell_type": "markdown",
   "metadata": {},
   "source": [
    "# Coding a Single layer\n"
   ]
  },
  {
   "cell_type": "markdown",
   "metadata": {},
   "source": [
    "![single_layer.png](data:image/png;base64,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)"
   ]
  },
  {
   "cell_type": "code",
   "execution_count": 5,
   "metadata": {},
   "outputs": [
    {
     "name": "stdout",
     "output_type": "stream",
     "text": [
      "[[0.1, 0.2, 0.3], [0.2, 0.4, 0.7], [0.4, 0.6, 0.8], [0.4, 0.7, 0.3]]\n",
      "1.4 3.0999999999999996 4.0 2.6999999999999997\n"
     ]
    }
   ],
   "source": [
    "inputs=[1,2,3]\n",
    "weights=[\n",
    "    [0.1,0.2,0.3],\n",
    "    [0.2,0.4,0.7],\n",
    "    [0.4,0.6,0.8],\n",
    "    [0.4,0.7,0.3]\n",
    "    ]\n",
    "print(weights)\n",
    "output1=inputs[0]*weights[0][0]+inputs[1]*weights[0][1]+inputs[2]*weights[0][2]\n",
    "output2=inputs[0]*weights[1][0]+inputs[1]*weights[1][1]+inputs[2]*weights[1][2]\n",
    "output3=inputs[0]*weights[2][0]+inputs[1]*weights[2][1]+inputs[2]*weights[2][2]\n",
    "output4=inputs[0]*weights[3][0]+inputs[1]*weights[3][1]+inputs[2]*weights[3][2]\n",
    "\n",
    "print(output1,output2,output3,output4)\n"
   ]
  },
  {
   "cell_type": "markdown",
   "metadata": {},
   "source": [
    "# With numpy Arrays\n"
   ]
  },
  {
   "cell_type": "code",
   "execution_count": null,
   "metadata": {},
   "outputs": [
    {
     "name": "stdout",
     "output_type": "stream",
     "text": [
      "[3 5 9]\n",
      "[[0.14165231 0.92267159 0.06321169]\n",
      " [0.87052221 0.58910303 0.19990675]\n",
      " [0.5769896  0.00880112 0.4710911 ]\n",
      " [0.01841767 0.57292116 0.59346318]]\n"
     ]
    },
    {
     "ename": "ValueError",
     "evalue": "shapes (3,) and (4,3) not aligned: 3 (dim 0) != 4 (dim 0)",
     "output_type": "error",
     "traceback": [
      "\u001b[0;31m---------------------------------------------------------------------------\u001b[0m",
      "\u001b[0;31mValueError\u001b[0m                                Traceback (most recent call last)",
      "Cell \u001b[0;32mIn[9], line 8\u001b[0m\n\u001b[1;32m      5\u001b[0m \u001b[38;5;28mprint\u001b[39m(weights)  \u001b[38;5;66;03m#4 neurons 3 weights for each neuron\u001b[39;00m\n\u001b[1;32m      6\u001b[0m biases\u001b[38;5;241m=\u001b[39mnp\u001b[38;5;241m.\u001b[39mrandom\u001b[38;5;241m.\u001b[39mrandint(\u001b[38;5;241m0\u001b[39m,\u001b[38;5;241m5\u001b[39m,\u001b[38;5;241m4\u001b[39m)\n\u001b[0;32m----> 8\u001b[0m output\u001b[38;5;241m=\u001b[39m\u001b[43mnp\u001b[49m\u001b[38;5;241;43m.\u001b[39;49m\u001b[43mdot\u001b[49m\u001b[43m(\u001b[49m\u001b[43minputs\u001b[49m\u001b[43m,\u001b[49m\u001b[43mweights\u001b[49m\u001b[43m)\u001b[49m\u001b[38;5;241m+\u001b[39mbiases\n\u001b[1;32m      9\u001b[0m \u001b[38;5;28mprint\u001b[39m(output)\n",
      "\u001b[0;31mValueError\u001b[0m: shapes (3,) and (4,3) not aligned: 3 (dim 0) != 4 (dim 0)"
     ]
    }
   ],
   "source": [
    "import numpy as np\n",
    "inputs=np.random.randint(0,10,3)\n",
    "print(inputs)\n",
    "weights=np.random.random((4,3))\n",
    "print(weights)  #4 neurons 3 weights for each neuron\n",
    "biases=np.random.randint(0,5,4) #for layer 1\n",
    "\n",
    "output=np.dot(inputs,weights)+biases\n",
    "print(output)\n"
   ]
  },
  {
   "cell_type": "markdown",
   "metadata": {},
   "source": [
    "# above is matrix multiplication error"
   ]
  },
  {
   "cell_type": "code",
   "execution_count": 10,
   "metadata": {},
   "outputs": [
    {
     "name": "stdout",
     "output_type": "stream",
     "text": [
      "[ 8.60722011 10.35624257  6.01479429 11.26102737]\n"
     ]
    }
   ],
   "source": [
    "output=np.dot(weights,inputs)+biases\n",
    "print(output)"
   ]
  },
  {
   "cell_type": "markdown",
   "metadata": {},
   "source": [
    "# or you can transpose it"
   ]
  },
  {
   "cell_type": "code",
   "execution_count": 11,
   "metadata": {},
   "outputs": [
    {
     "name": "stdout",
     "output_type": "stream",
     "text": [
      "[ 8.60722011 10.35624257  6.01479429 11.26102737]\n"
     ]
    }
   ],
   "source": [
    "output=np.dot(inputs,weights.T)+biases\n",
    "print(output)"
   ]
  }
 ],
 "metadata": {
  "kernelspec": {
   "display_name": "Python 3",
   "language": "python",
   "name": "python3"
  },
  "language_info": {
   "codemirror_mode": {
    "name": "ipython",
    "version": 3
   },
   "file_extension": ".py",
   "mimetype": "text/x-python",
   "name": "python",
   "nbconvert_exporter": "python",
   "pygments_lexer": "ipython3",
   "version": "3.11.5"
  }
 },
 "nbformat": 4,
 "nbformat_minor": 2
}
