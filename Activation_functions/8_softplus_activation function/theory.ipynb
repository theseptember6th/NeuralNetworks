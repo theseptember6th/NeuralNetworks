{
 "cells": [
  {
   "cell_type": "markdown",
   "metadata": {},
   "source": [
    "# Softplus Activation Function\n",
    "![Softplus Activation Function](data:image/png;base64,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)\n",
    "The Softplus function is similar to the ReLU (Rectified Linear Unit) but is continuous and differentiable at all points. \n",
    "\n",
    "## Mathematical Form\n",
    "\n",
    "The mathematical form of Softplus is given by:\n",
    "\n",
    "$$\n",
    "\\text{Softplus}(x) = \\ln(1 + e^x)\n",
    "$$\n",
    "\n",
    "### Range\n",
    "\n",
    "- It is unbounded for positive values.\n",
    "- Approaches zero as \\( x \\) approaches negative infinity.\n",
    "- The range is \\([0, +\\infty)\\).\n",
    "\n",
    "## Smoothness\n",
    "\n",
    "Unlike ReLU, which has a discontinuity at zero, Softplus has a smooth transition across zero, making it useful in cases where gradients are needed throughout the entire range.\n",
    "\n",
    "## Derivative\n",
    "\n",
    "The derivative of Softplus is derived as follows:\n",
    "\n",
    "$$\n",
    "f'(x) = \\frac{e^x}{1 + e^x} = \\frac{1}{1 + e^{-x}}\n",
    "$$\n",
    "\n",
    "This expression is the same as the sigmoid function, which is interesting since it shows how the gradient of Softplus resembles the behavior of the sigmoid.\n",
    "\n",
    "## Features\n",
    "\n",
    "- The Softplus function maintains a smooth gradient and does not suffer from the vanishing gradient problem like other activation functions might.\n",
    "- However, it is computationally more expensive due to the presence of exponential and logarithmic terms, which limits its popularity compared to other activation functions like ReLU.\n",
    "\n",
    "## Parameter Control\n",
    "\n",
    "The function can be adjusted with a parameter \\( \\beta \\) to control the slope around zero. For example:\n",
    "\n",
    "- \\( \\beta = 1 \\) gives the standard Softplus function.\n",
    "- \\( \\beta < 1 \\) results in a more linear function.\n",
    "- \\( \\beta > 1 \\) approaches ReLU.\n"
   ]
  }
 ],
 "metadata": {
  "language_info": {
   "name": "python"
  }
 },
 "nbformat": 4,
 "nbformat_minor": 2
}
