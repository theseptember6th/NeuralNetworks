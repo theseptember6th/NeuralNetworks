{
 "cells": [
  {
   "cell_type": "markdown",
   "metadata": {},
   "source": [
    "# Summary of Mish Activation Function\n",
    "![Mish vs Swish](https://miro.medium.com/v2/resize:fit:742/1*sppY6yI2KstDKxFX57Ugig.png)\n",
    "In this lecture, the Mish activation function is introduced, which is inspired by the Swish activation function. Mish has been shown to outperform Swish and other activation functions across various tasks and datasets, including CIFAR-10 and CIFAR-100. The Mish activation is defined as:\n",
    "\n",
    "$$\n",
    "\\text{Mish}(x) = x \\cdot \\tanh(\\text{Softplus}(x))\n",
    "$$\n",
    "\n",
    "where the Softplus function is given by:\n",
    "\n",
    "$$\n",
    "\\text{Softplus}(x) = \\log(1 + e^x)\n",
    "$$\n",
    "\n",
    "**Key Properties of Mish Activation:**\n",
    "\n",
    "1. **Continuous and Differentiable:** The graph is continuous, and the derivative exists at all points.\n",
    "2. **Non-monotonic:** Similar to Swish, Mish exhibits both decreasing and increasing behavior.\n",
    "3. **Zero-Centered:** Mish produces negative output values, making it zero-centered.\n",
    "4. **Unbounded:** Mish does not saturate on the positive side, helping to prevent the vanishing gradient problem.\n",
    "\n",
    "**Performance Findings:**\n",
    "\n",
    "- Mish outperformed ReLU and Swish in experiments across different network depths, batch sizes, optimizers (SGD, RMSProp, Adam), learning rates, and regularization techniques (L1, L2, dropout).\n",
    "- Mish showed robustness to weight initialization and performed well with data augmentation methods like Mixup.\n",
    "\n",
    "In the implementation section, the Mish activation function is defined in Python, demonstrating its sharper characteristics compared to Swish when plotted over a specified range.\n",
    "\n",
    "This concludes the discussion on the Mish activation function, with the next video planned to cover one more activation function.\n"
   ]
  }
 ],
 "metadata": {
  "kernelspec": {
   "display_name": "Python 3",
   "language": "python",
   "name": "python3"
  },
  "language_info": {
   "name": "python",
   "version": "3.11.5"
  }
 },
 "nbformat": 4,
 "nbformat_minor": 2
}
