{
 "cells": [
  {
   "cell_type": "markdown",
   "metadata": {},
   "source": [
    "# Swish Activation Function Overview\n",
    "\n",
    "## Introduction\n",
    "![Swish Activation Function](data:image/png;base64,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)\n",
    "Traditional activation functions are hand-designed, but the **Swish activation function** was developed through **Neural Architecture Search (NAS)** by Google, outperforming many existing functions.\n",
    "\n",
    "## Neural Architecture Search\n",
    "NAS automates the design of neural networks by defining a **search space** and **search strategy**. The process involves creating and evaluating numerous network architectures to find the best one for a given task, significantly reducing the time required for manual design.\n",
    "\n",
    "## Swish Activation Function\n",
    "**Mathematical Form**: The simplest form of Swish is given by:\n",
    "$$\n",
    "\\text{Swish}(x) = x \\cdot \\text{sigmoid}(x) = \\frac{x}{1 + e^{-x}}\n",
    "$$\n",
    "\n",
    "**Characteristics**:\n",
    "- Unbounded on the positive side (like ReLU).\n",
    "- Bounded on the negative side.\n",
    "- Non-monotonic: It decreases for some values of \\( x \\) before increasing, which enhances expressivity and gradient flow.\n",
    "\n",
    "## Performance Evaluation\n",
    "Swish has been tested on image classification tasks (C410 and C400 datasets) and compared to ReLU. Most NAS-discovered activation functions, including Swish, outperformed ReLU across various network architectures. Swish demonstrated superior performance in both image classification and natural language processing tasks.\n",
    "\n",
    "## Derivative of Swish\n",
    "The derivative of the Swish function is computed using the product rule:\n",
    "$$\n",
    "f'(x) = \\text{Swish}(x) + \\text{sigmoid}(x) \\cdot (1 - \\text{Swish}(x))\n",
    "$$\n",
    "\n",
    "## Properties\n",
    "Swish is unbounded on the positive side and smooth, avoiding the vanishing gradient problem. The non-monotonicity aids in robustness to different weight initializations and learning rates.\n",
    "\n",
    "## Implementation\n",
    "The implementation in Python using NumPy is straightforward, and the graph of the Swish function can be plotted to visualize its characteristics.\n"
   ]
  }
 ],
 "metadata": {
  "language_info": {
   "name": "python"
  }
 },
 "nbformat": 4,
 "nbformat_minor": 2
}
